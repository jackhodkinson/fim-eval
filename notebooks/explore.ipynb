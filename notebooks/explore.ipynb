{
  "cells": [
    {
      "id": "0",
      "cell_type": "code",
      "execution_count": null,
      "outputs": [],
      "source": [
        "!pwd"
      ],
      "metadata": {}
    },
    {
      "id": "1eef751e-a3e6-441c-8f63-69fccfc1b958",
      "cell_type": "code",
      "execution_count": null,
      "outputs": [],
      "source": [
        "!ls ../data"
      ],
      "metadata": {}
    },
    {
      "id": "1c8da0a2-b3fa-407f-803c-e4783c5e87e1",
      "cell_type": "code",
      "execution_count": null,
      "outputs": [],
      "source": [
        "!ls ../packages/human-eval-infilling/data"
      ],
      "metadata": {}
    },
    {
      "id": "3227b51d-44f8-4f84-9e45-54ecf93cd292",
      "cell_type": "code",
      "execution_count": null,
      "outputs": [],
      "source": [
        "import gzip\n",
        "import json\n",
        "\n",
        "path = \"../packages/human-eval-infilling/data/HumanEval-SingleLineInfilling.jsonl.gz\"\n",
        "\n",
        "tasks = []\n",
        "with gzip.open(path, 'rt', encoding='utf-8') as f:\n",
        "    for line in f:\n",
        "        task = json.loads(line)\n",
        "        tasks.append(task)"
      ],
      "metadata": {}
    },
    {
      "id": "a68b922f-aeb1-4a8d-a24b-ea80db40f663",
      "cell_type": "code",
      "execution_count": null,
      "outputs": [],
      "source": [
        "t = tasks[0]\n",
        "print(t['prompt'] + '|' + t['suffix'])"
      ],
      "metadata": {}
    },
    {
      "id": "b8a2953e-83ea-455e-9bc8-4f03d56339c4",
      "cell_type": "code",
      "execution_count": null,
      "outputs": [],
      "source": [
        "t['prompt']"
      ],
      "metadata": {}
    },
    {
      "id": "ceb5384b-a2ef-42df-b52e-f381b8402847",
      "cell_type": "code",
      "execution_count": null,
      "outputs": [],
      "source": [
        "result_path = \"../data/gpt_single-line.jsonl_results.jsonl\"\n",
        "results = []\n",
        "with open(result_path, 'rt') as f:\n",
        "    for line in f.readlines():\n",
        "        result = json.loads(line)\n",
        "        results.append(result)"
      ],
      "metadata": {}
    },
    {
      "id": "3a8b6a28-b5a6-4025-80e0-1578199ad649",
      "cell_type": "code",
      "execution_count": null,
      "outputs": [],
      "source": [
        "result"
      ],
      "metadata": {}
    },
    {
      "id": "849ae512-173e-4efe-98b2-740022c1f786",
      "cell_type": "code",
      "execution_count": null,
      "outputs": [],
      "source": [
        "result"
      ],
      "metadata": {}
    },
    {
      "id": "188eaa09-6afb-4ea8-9633-dfe42a2c02fe",
      "cell_type": "code",
      "execution_count": null,
      "outputs": [],
      "source": [
        "prefix = t['prompt']\n",
        "suffix = t['suffix']\n",
        "middle = result['completion']\n",
        "\n",
        "print(prefix + \"|\" + suffix)\n",
        "print('--------------------------')\n",
        "print(prefix + middle + suffix)"
      ],
      "metadata": {}
    },
    {
      "id": "776ecf34-8934-4add-9d7f-eef2da41099c",
      "cell_type": "code",
      "execution_count": null,
      "outputs": [],
      "source": [
        ""
      ],
      "metadata": {}
    }
  ],
  "metadata": {},
  "nbformat": 4,
  "nbformat_minor": 5
}