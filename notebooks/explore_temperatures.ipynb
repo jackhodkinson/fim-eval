{
  "cells": [
    {
      "id": "ca22b8d7-45da-40d9-b3f4-4e3b372845ea",
      "cell_type": "code",
      "execution_count": null,
      "outputs": [],
      "source": [
        "import json\n",
        "import matplotlib.pylab as plt\n",
        "import numpy as np\n",
        "import pandas as pd"
      ],
      "metadata": {}
    },
    {
      "id": "bedc3cd0-0a73-4382-a87c-0ed2c85d5df5",
      "cell_type": "code",
      "execution_count": null,
      "outputs": [],
      "source": [
        "!ls ../data/codellama-7b-code_temperature"
      ],
      "metadata": {}
    },
    {
      "id": "2e5e6d0b-56a9-448e-a041-1e12c475b5c1",
      "cell_type": "code",
      "execution_count": null,
      "outputs": [],
      "source": [
        "results = []\n",
        "with open('../data/codellama-7b-code_temperature/results.jsonl', 'rt') as f:\n",
        "    for line in f.readlines():\n",
        "        results.append(json.loads(line))"
      ],
      "metadata": {}
    },
    {
      "id": "d8aa890f-74f3-4c39-9827-53839f2e61bc",
      "cell_type": "code",
      "execution_count": null,
      "outputs": [],
      "source": [
        "df = pd.DataFrame(results)\n",
        "print(df)"
      ],
      "metadata": {}
    },
    {
      "id": "018e9f1b-fb7d-4b3a-b325-072556c7bae0",
      "cell_type": "code",
      "execution_count": null,
      "outputs": [],
      "source": [
        "import matplotlib.pyplot as plt\n",
        "\n",
        "fig, axes = plt.subplots(1, 3, figsize=(15, 5))\n",
        "\n",
        "# First subplot with all plots\n",
        "df.plot('temperature', 'pass@1', label='pass@1', ax=axes[0], marker='o', color='C3')\n",
        "df.plot('temperature', 'pass@3', label='pass@3', ax=axes[0], marker='o')\n",
        "df.plot('temperature', 'pass@5', label='pass@5', ax=axes[0], marker='o')\n",
        "df.plot('temperature', 'pass@10', label='pass@10', ax=axes[0], marker='o')\n",
        "\n",
        "\n",
        "# Second subplot with only pass@1 in red\n",
        "df.plot('temperature', 'pass@1', label='pass@1', ax=axes[1], marker='o', color='red')\n",
        "\n",
        "# Third subplot with pass@3, pass@5, pass@10\n",
        "df.plot('temperature', 'pass@3', label='pass@3', ax=axes[2], marker='o')\n",
        "df.plot('temperature', 'pass@5', label='pass@5', ax=axes[2], marker='o')\n",
        "df.plot('temperature', 'pass@10', label='pass@10', ax=axes[2], marker='o')\n",
        "\n",
        "plt.tight_layout()\n",
        "plt.show()\n"
      ],
      "metadata": {}
    },
    {
      "id": "bf8c5dc8-ab68-42f7-9d8c-a123ff85c682",
      "cell_type": "code",
      "execution_count": null,
      "outputs": [],
      "source": [
        "import matplotlib.pyplot as plt\n",
        "\n",
        "fig, axes = plt.subplots(1, 1, figsize=(5, 5))\n",
        "\n",
        "# First subplot with all plots\n",
        "df.plot('temperature', 'pass@1', label='pass@1', ax=axes, marker='o', color='C3')\n",
        "df.plot('temperature', 'pass@3', label='pass@3', ax=axes, marker='o')\n",
        "df.plot('temperature', 'pass@5', label='pass@5', ax=axes, marker='o')\n",
        "df.plot('temperature', 'pass@10', label='pass@10', ax=axes, marker='o')\n",
        "\n",
        "\n",
        "plt.tight_layout()\n",
        "plt.savefig('plot.png')"
      ],
      "metadata": {}
    },
    {
      "id": "fb623569-5463-48f9-bee3-b8312a1811c8",
      "cell_type": "code",
      "execution_count": null,
      "outputs": [],
      "source": [
        ""
      ],
      "metadata": {}
    }
  ],
  "metadata": {
    "kernelspec": {
      "name": "analysis",
      "display_name": "analysis",
      "language": "python"
    }
  },
  "nbformat": 4,
  "nbformat_minor": 5
}